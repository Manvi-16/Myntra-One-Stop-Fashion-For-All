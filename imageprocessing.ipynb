{
  "nbformat": 4,
  "nbformat_minor": 0,
  "metadata": {
    "colab": {
      "provenance": [],
      "authorship_tag": "ABX9TyOgpc/ln2mrl9gDNPLxc6Vo",
      "include_colab_link": true
    },
    "kernelspec": {
      "name": "python3",
      "display_name": "Python 3"
    },
    "language_info": {
      "name": "python"
    }
  },
  "cells": [
    {
      "cell_type": "markdown",
      "metadata": {
        "id": "view-in-github",
        "colab_type": "text"
      },
      "source": [
        "<a href=\"https://colab.research.google.com/github/Manvi-16/Myntra-One-Stop-Fashion-For-All/blob/main/imageprocessing.ipynb\" target=\"_parent\"><img src=\"https://colab.research.google.com/assets/colab-badge.svg\" alt=\"Open In Colab\"/></a>"
      ]
    },
    {
      "cell_type": "code",
      "execution_count": null,
      "metadata": {
        "id": "WP9vnTelBPMz"
      },
      "outputs": [],
      "source": [
        "!pip install --upgrade -q accelerate bitsandbytes\n",
        "from transformers import AutoProcessor, LlavaForConditionalGeneration\n",
        "from transformers import BitsAndBytesConfig\n",
        "import torch\n",
        "\n",
        "quantization_config = BitsAndBytesConfig(\n",
        "    load_in_4bit=True,\n",
        "    bnb_4bit_compute_dtype=torch.float16\n",
        ")\n",
        "\n",
        "\n",
        "model_id = \"llava-hf/llava-1.5-7b-hf\"\n",
        "\n",
        "processor = AutoProcessor.from_pretrained(model_id)\n",
        "model = LlavaForConditionalGeneration.from_pretrained(model_id, quantization_config=quantization_config, device_map=\"auto\")\n",
        "\n",
        "import requests\n",
        "from PIL import Image\n",
        "\n",
        "image1 = Image.open(\"/content/image_3.jpg\")\n",
        "# image2 = Image.open(requests.get(\"http://images.cocodataset.org/val2017/000000039769.jpg\", stream=True).raw)\n",
        "display(image1)\n",
        "# display(image2)\n",
        "\n",
        "\n",
        "prompts = [\n",
        "            \"USER: <image>\\nDescribe in detail with keywords just the clothing article present in this image. Describe both the pant and the shirt \\nASSISTANT:\",\n",
        "            # \"USER: <image>\\nPlease describe this image\\nASSISTANT:\",\n",
        "]\n",
        "\n",
        "inputs = processor(prompts, images=[image1], padding=True, return_tensors=\"pt\").to(\"cuda\")\n",
        "for k,v in inputs.items():\n",
        "  print(k,v.shape)\n",
        "\n",
        "\n",
        "output = model.generate(**inputs, max_new_tokens=50)\n",
        "generated_text = processor.batch_decode(output, skip_special_tokens=True)\n",
        "for text in generated_text:\n",
        "  print(text.split(\"ASSISTANT:\")[-1])"
      ]
    }
  ]
}